{
 "cells": [
  {
   "cell_type": "markdown",
   "metadata": {},
   "source": [
    "# Exploratory Data Analysis for ICEES Multivariate Table"
   ]
  },
  {
   "cell_type": "markdown",
   "metadata": {},
   "source": [
    "## Introduction\n",
    "\n",
    "In this file, we will conduct exploratory data analysis (EDA) for Traffic Collision data collected from the Seattle City GIS database, found here [seattlecitygis](https://data-seattlecitygis.opendata.arcgis.com/datasets/collisions)."
   ]
  },
  {
   "cell_type": "code",
   "execution_count": 1,
   "metadata": {},
   "outputs": [],
   "source": [
    "# Importing Libraries\n",
    "import numpy as np\n",
    "import pandas as pd\n",
    "import seaborn as sns\n",
    "import matplotlib.pyplot as plt\n",
    "\n",
    "# This is to supress the warning messages that might be generated \n",
    "import warnings\n",
    "warnings.filterwarnings('ignore')\n",
    "\n",
    "# Comment this if the data visualisations doesn't work for you\n",
    "%matplotlib inline\n",
    "\n",
    "# Using whitegrid style for our seaborn plots\n",
    "sns.set_style(style = 'whitegrid')"
   ]
  },
  {
   "cell_type": "code",
   "execution_count": 2,
   "metadata": {},
   "outputs": [],
   "source": [
    "# This cell is to display all output within each cell in Jupyter Notebook, instead of just the last statement\n",
    "\n",
    "from IPython.core.interactiveshell import InteractiveShell\n",
    "InteractiveShell.ast_node_interactivity = \"all\""
   ]
  },
  {
   "cell_type": "markdown",
   "metadata": {},
   "source": [
    "## Reading and visualizing our data"
   ]
  },
  {
   "cell_type": "code",
   "execution_count": 3,
   "metadata": {},
   "outputs": [],
   "source": [
    "#Reading the original table\n",
    "\n",
    "Collision_data = pd.read_csv('../data_sources/Collisions.csv')"
   ]
  },
  {
   "cell_type": "code",
   "execution_count": 4,
   "metadata": {},
   "outputs": [
    {
     "data": {
      "text/plain": [
       "(220338, 40)"
      ]
     },
     "execution_count": 4,
     "metadata": {},
     "output_type": "execute_result"
    }
   ],
   "source": [
    "#Viewing the data dimension\n",
    "\n",
    "nrow, ncol = Collision_data.shape\n",
    "nrow, ncol"
   ]
  },
  {
   "cell_type": "code",
   "execution_count": 5,
   "metadata": {},
   "outputs": [
    {
     "data": {
      "text/html": [
       "<div>\n",
       "<style scoped>\n",
       "    .dataframe tbody tr th:only-of-type {\n",
       "        vertical-align: middle;\n",
       "    }\n",
       "\n",
       "    .dataframe tbody tr th {\n",
       "        vertical-align: top;\n",
       "    }\n",
       "\n",
       "    .dataframe thead th {\n",
       "        text-align: right;\n",
       "    }\n",
       "</style>\n",
       "<table border=\"1\" class=\"dataframe\">\n",
       "  <thead>\n",
       "    <tr style=\"text-align: right;\">\n",
       "      <th></th>\n",
       "      <th>X</th>\n",
       "      <th>Y</th>\n",
       "      <th>OBJECTID</th>\n",
       "      <th>INCKEY</th>\n",
       "      <th>COLDETKEY</th>\n",
       "      <th>REPORTNO</th>\n",
       "      <th>STATUS</th>\n",
       "      <th>ADDRTYPE</th>\n",
       "      <th>INTKEY</th>\n",
       "      <th>LOCATION</th>\n",
       "      <th>...</th>\n",
       "      <th>ROADCOND</th>\n",
       "      <th>LIGHTCOND</th>\n",
       "      <th>PEDROWNOTGRNT</th>\n",
       "      <th>SDOTCOLNUM</th>\n",
       "      <th>SPEEDING</th>\n",
       "      <th>ST_COLCODE</th>\n",
       "      <th>ST_COLDESC</th>\n",
       "      <th>SEGLANEKEY</th>\n",
       "      <th>CROSSWALKKEY</th>\n",
       "      <th>HITPARKEDCAR</th>\n",
       "    </tr>\n",
       "  </thead>\n",
       "  <tbody>\n",
       "    <tr>\n",
       "      <th>0</th>\n",
       "      <td>-122.362907</td>\n",
       "      <td>47.558372</td>\n",
       "      <td>1</td>\n",
       "      <td>326120</td>\n",
       "      <td>327620</td>\n",
       "      <td>3824232</td>\n",
       "      <td>Unmatched</td>\n",
       "      <td>Block</td>\n",
       "      <td>NaN</td>\n",
       "      <td>DELRIDGE WAY SW BETWEEN SW EDMUNDS ST AND SW H...</td>\n",
       "      <td>...</td>\n",
       "      <td>NaN</td>\n",
       "      <td>NaN</td>\n",
       "      <td>NaN</td>\n",
       "      <td>NaN</td>\n",
       "      <td>NaN</td>\n",
       "      <td></td>\n",
       "      <td>NaN</td>\n",
       "      <td>0</td>\n",
       "      <td>0</td>\n",
       "      <td>N</td>\n",
       "    </tr>\n",
       "    <tr>\n",
       "      <th>1</th>\n",
       "      <td>-122.301868</td>\n",
       "      <td>47.618931</td>\n",
       "      <td>2</td>\n",
       "      <td>65200</td>\n",
       "      <td>65200</td>\n",
       "      <td>2621299</td>\n",
       "      <td>Matched</td>\n",
       "      <td>Block</td>\n",
       "      <td>NaN</td>\n",
       "      <td>E DENNY WAY BETWEEN 23RD AVE AND 24TH AVE</td>\n",
       "      <td>...</td>\n",
       "      <td>Ice</td>\n",
       "      <td>Dusk</td>\n",
       "      <td>NaN</td>\n",
       "      <td>7015014.0</td>\n",
       "      <td>NaN</td>\n",
       "      <td>32</td>\n",
       "      <td>One parked--one moving</td>\n",
       "      <td>0</td>\n",
       "      <td>0</td>\n",
       "      <td>N</td>\n",
       "    </tr>\n",
       "    <tr>\n",
       "      <th>2</th>\n",
       "      <td>-122.391508</td>\n",
       "      <td>47.669461</td>\n",
       "      <td>3</td>\n",
       "      <td>20100</td>\n",
       "      <td>20100</td>\n",
       "      <td>1473746</td>\n",
       "      <td>Matched</td>\n",
       "      <td>Block</td>\n",
       "      <td>NaN</td>\n",
       "      <td>NW 56TH ST BETWEEN 26TH AVE NW AND 28TH AVE NW</td>\n",
       "      <td>...</td>\n",
       "      <td>Dry</td>\n",
       "      <td>Dark - Street Lights On</td>\n",
       "      <td>NaN</td>\n",
       "      <td>4080013.0</td>\n",
       "      <td>NaN</td>\n",
       "      <td>32</td>\n",
       "      <td>One parked--one moving</td>\n",
       "      <td>0</td>\n",
       "      <td>0</td>\n",
       "      <td>N</td>\n",
       "    </tr>\n",
       "    <tr>\n",
       "      <th>3</th>\n",
       "      <td>-122.346296</td>\n",
       "      <td>47.620903</td>\n",
       "      <td>4</td>\n",
       "      <td>49300</td>\n",
       "      <td>49300</td>\n",
       "      <td>2072241</td>\n",
       "      <td>Matched</td>\n",
       "      <td>Intersection</td>\n",
       "      <td>28927.0</td>\n",
       "      <td>TAYLOR AVE N AND THOMAS ST</td>\n",
       "      <td>...</td>\n",
       "      <td>Dry</td>\n",
       "      <td>Daylight</td>\n",
       "      <td>NaN</td>\n",
       "      <td>6154013.0</td>\n",
       "      <td>NaN</td>\n",
       "      <td>10</td>\n",
       "      <td>Entering at angle</td>\n",
       "      <td>0</td>\n",
       "      <td>0</td>\n",
       "      <td>N</td>\n",
       "    </tr>\n",
       "    <tr>\n",
       "      <th>4</th>\n",
       "      <td>-122.288688</td>\n",
       "      <td>47.532714</td>\n",
       "      <td>5</td>\n",
       "      <td>29800</td>\n",
       "      <td>29800</td>\n",
       "      <td>1177964</td>\n",
       "      <td>Unmatched</td>\n",
       "      <td>Block</td>\n",
       "      <td>NaN</td>\n",
       "      <td>BEACON ER AVE S BETWEEN S PORTLAND ST AND S CH...</td>\n",
       "      <td>...</td>\n",
       "      <td>NaN</td>\n",
       "      <td>NaN</td>\n",
       "      <td>NaN</td>\n",
       "      <td>4315006.0</td>\n",
       "      <td>NaN</td>\n",
       "      <td>NaN</td>\n",
       "      <td>NaN</td>\n",
       "      <td>0</td>\n",
       "      <td>0</td>\n",
       "      <td>N</td>\n",
       "    </tr>\n",
       "    <tr>\n",
       "      <th>5</th>\n",
       "      <td>-122.316779</td>\n",
       "      <td>47.610979</td>\n",
       "      <td>6</td>\n",
       "      <td>1294</td>\n",
       "      <td>1294</td>\n",
       "      <td>3615286</td>\n",
       "      <td>Unmatched</td>\n",
       "      <td>Block</td>\n",
       "      <td>NaN</td>\n",
       "      <td>12TH AVE BETWEEN E MARION ST AND E SPRING ST</td>\n",
       "      <td>...</td>\n",
       "      <td>NaN</td>\n",
       "      <td>NaN</td>\n",
       "      <td>NaN</td>\n",
       "      <td>NaN</td>\n",
       "      <td>NaN</td>\n",
       "      <td></td>\n",
       "      <td>NaN</td>\n",
       "      <td>0</td>\n",
       "      <td>0</td>\n",
       "      <td>N</td>\n",
       "    </tr>\n",
       "    <tr>\n",
       "      <th>6</th>\n",
       "      <td>-122.330820</td>\n",
       "      <td>47.605483</td>\n",
       "      <td>7</td>\n",
       "      <td>326090</td>\n",
       "      <td>327590</td>\n",
       "      <td>E984256</td>\n",
       "      <td>Matched</td>\n",
       "      <td>Block</td>\n",
       "      <td>NaN</td>\n",
       "      <td>5TH AVE BETWEEN COLUMBIA ST AND MARION ST</td>\n",
       "      <td>...</td>\n",
       "      <td>Dry</td>\n",
       "      <td>Dark - Street Lights On</td>\n",
       "      <td>NaN</td>\n",
       "      <td>NaN</td>\n",
       "      <td>NaN</td>\n",
       "      <td>12</td>\n",
       "      <td>From same direction - both going straight - on...</td>\n",
       "      <td>0</td>\n",
       "      <td>0</td>\n",
       "      <td>N</td>\n",
       "    </tr>\n",
       "    <tr>\n",
       "      <th>7</th>\n",
       "      <td>-122.323966</td>\n",
       "      <td>47.606374</td>\n",
       "      <td>8</td>\n",
       "      <td>32800</td>\n",
       "      <td>32800</td>\n",
       "      <td>2128498</td>\n",
       "      <td>Matched</td>\n",
       "      <td>Block</td>\n",
       "      <td>NaN</td>\n",
       "      <td>TERRY AVE BETWEEN JAMES ST AND CHERRY ST</td>\n",
       "      <td>...</td>\n",
       "      <td>Wet</td>\n",
       "      <td>Dark - No Street Lights</td>\n",
       "      <td>NaN</td>\n",
       "      <td>5356027.0</td>\n",
       "      <td>NaN</td>\n",
       "      <td>32</td>\n",
       "      <td>One parked--one moving</td>\n",
       "      <td>0</td>\n",
       "      <td>0</td>\n",
       "      <td>N</td>\n",
       "    </tr>\n",
       "    <tr>\n",
       "      <th>8</th>\n",
       "      <td>-122.336747</td>\n",
       "      <td>47.686304</td>\n",
       "      <td>9</td>\n",
       "      <td>1044</td>\n",
       "      <td>1044</td>\n",
       "      <td>3615241</td>\n",
       "      <td>Unmatched</td>\n",
       "      <td>Block</td>\n",
       "      <td>NaN</td>\n",
       "      <td>WALLINGFORD AVE N BETWEEN EAST GREEN LAKE DR N...</td>\n",
       "      <td>...</td>\n",
       "      <td>NaN</td>\n",
       "      <td>NaN</td>\n",
       "      <td>NaN</td>\n",
       "      <td>NaN</td>\n",
       "      <td>NaN</td>\n",
       "      <td></td>\n",
       "      <td>NaN</td>\n",
       "      <td>0</td>\n",
       "      <td>0</td>\n",
       "      <td>N</td>\n",
       "    </tr>\n",
       "    <tr>\n",
       "      <th>9</th>\n",
       "      <td>-122.367024</td>\n",
       "      <td>47.625593</td>\n",
       "      <td>10</td>\n",
       "      <td>1062</td>\n",
       "      <td>1062</td>\n",
       "      <td>3503599</td>\n",
       "      <td>Matched</td>\n",
       "      <td>Block</td>\n",
       "      <td>NaN</td>\n",
       "      <td>ELLIOTT AVE W BETWEEN W MERCER ST AND W MERCER PL</td>\n",
       "      <td>...</td>\n",
       "      <td>Dry</td>\n",
       "      <td>Dark - Street Lights On</td>\n",
       "      <td>NaN</td>\n",
       "      <td>NaN</td>\n",
       "      <td>NaN</td>\n",
       "      <td>32</td>\n",
       "      <td>One parked--one moving</td>\n",
       "      <td>0</td>\n",
       "      <td>0</td>\n",
       "      <td>N</td>\n",
       "    </tr>\n",
       "  </tbody>\n",
       "</table>\n",
       "<p>10 rows × 40 columns</p>\n",
       "</div>"
      ],
      "text/plain": [
       "            X          Y  OBJECTID  INCKEY  COLDETKEY REPORTNO     STATUS  \\\n",
       "0 -122.362907  47.558372         1  326120     327620  3824232  Unmatched   \n",
       "1 -122.301868  47.618931         2   65200      65200  2621299    Matched   \n",
       "2 -122.391508  47.669461         3   20100      20100  1473746    Matched   \n",
       "3 -122.346296  47.620903         4   49300      49300  2072241    Matched   \n",
       "4 -122.288688  47.532714         5   29800      29800  1177964  Unmatched   \n",
       "5 -122.316779  47.610979         6    1294       1294  3615286  Unmatched   \n",
       "6 -122.330820  47.605483         7  326090     327590  E984256    Matched   \n",
       "7 -122.323966  47.606374         8   32800      32800  2128498    Matched   \n",
       "8 -122.336747  47.686304         9    1044       1044  3615241  Unmatched   \n",
       "9 -122.367024  47.625593        10    1062       1062  3503599    Matched   \n",
       "\n",
       "       ADDRTYPE   INTKEY                                           LOCATION  \\\n",
       "0         Block      NaN  DELRIDGE WAY SW BETWEEN SW EDMUNDS ST AND SW H...   \n",
       "1         Block      NaN          E DENNY WAY BETWEEN 23RD AVE AND 24TH AVE   \n",
       "2         Block      NaN     NW 56TH ST BETWEEN 26TH AVE NW AND 28TH AVE NW   \n",
       "3  Intersection  28927.0                         TAYLOR AVE N AND THOMAS ST   \n",
       "4         Block      NaN  BEACON ER AVE S BETWEEN S PORTLAND ST AND S CH...   \n",
       "5         Block      NaN       12TH AVE BETWEEN E MARION ST AND E SPRING ST   \n",
       "6         Block      NaN          5TH AVE BETWEEN COLUMBIA ST AND MARION ST   \n",
       "7         Block      NaN           TERRY AVE BETWEEN JAMES ST AND CHERRY ST   \n",
       "8         Block      NaN  WALLINGFORD AVE N BETWEEN EAST GREEN LAKE DR N...   \n",
       "9         Block      NaN  ELLIOTT AVE W BETWEEN W MERCER ST AND W MERCER PL   \n",
       "\n",
       "   ... ROADCOND                LIGHTCOND PEDROWNOTGRNT SDOTCOLNUM SPEEDING  \\\n",
       "0  ...      NaN                      NaN           NaN        NaN      NaN   \n",
       "1  ...      Ice                     Dusk           NaN  7015014.0      NaN   \n",
       "2  ...      Dry  Dark - Street Lights On           NaN  4080013.0      NaN   \n",
       "3  ...      Dry                 Daylight           NaN  6154013.0      NaN   \n",
       "4  ...      NaN                      NaN           NaN  4315006.0      NaN   \n",
       "5  ...      NaN                      NaN           NaN        NaN      NaN   \n",
       "6  ...      Dry  Dark - Street Lights On           NaN        NaN      NaN   \n",
       "7  ...      Wet  Dark - No Street Lights           NaN  5356027.0      NaN   \n",
       "8  ...      NaN                      NaN           NaN        NaN      NaN   \n",
       "9  ...      Dry  Dark - Street Lights On           NaN        NaN      NaN   \n",
       "\n",
       "   ST_COLCODE                                         ST_COLDESC  SEGLANEKEY  \\\n",
       "0                                                            NaN           0   \n",
       "1          32                             One parked--one moving           0   \n",
       "2          32                             One parked--one moving           0   \n",
       "3          10                                  Entering at angle           0   \n",
       "4         NaN                                                NaN           0   \n",
       "5                                                            NaN           0   \n",
       "6          12  From same direction - both going straight - on...           0   \n",
       "7          32                             One parked--one moving           0   \n",
       "8                                                            NaN           0   \n",
       "9          32                             One parked--one moving           0   \n",
       "\n",
       "   CROSSWALKKEY  HITPARKEDCAR  \n",
       "0             0             N  \n",
       "1             0             N  \n",
       "2             0             N  \n",
       "3             0             N  \n",
       "4             0             N  \n",
       "5             0             N  \n",
       "6             0             N  \n",
       "7             0             N  \n",
       "8             0             N  \n",
       "9             0             N  \n",
       "\n",
       "[10 rows x 40 columns]"
      ]
     },
     "execution_count": 5,
     "metadata": {},
     "output_type": "execute_result"
    }
   ],
   "source": [
    "#Reading the first 10 entries \n",
    "\n",
    "Collision_data.head(10)"
   ]
  },
  {
   "cell_type": "markdown",
   "metadata": {},
   "source": [
    "### About the original column variables\n",
    " \n",
    "__X__ - longitude, the GPS values moving left to right (East and West) along the X axis  \n",
    "__Y__ - latitude, represented by horizontal lines, which go up and down (North and South)  \n",
    "__OBJECTID__ - ESRI unique identifier  \n",
    "__INCKEY__ - a unique key for the incident, variable type: Long  \n",
    "__COLDETKEY__ - a secondary key for the incident, variable type: Long  \n",
    "__REPORTNO__ - unknown  \n",
    "__STATUS__ - unknown  \n",
    "__ADDRTYPE__ - Collision address location type, variable type: text, 12 VARCHAR, e.g. Alley, Block, Intersection   \n",
    "__INTKEY__ - a key that corresponds to the intersection associated with a collision, variable type: Double  \n",
    "__LOCATION__ - a text description of location, e.g. TERRY AVE BETWEEN JAMES ST AND CHERRY ST  \n",
    "__EXCEPTRSNCODE__ - unknown  \n",
    "__EXCEPTRSNDESC__ - unknown  \n",
    "__SEVERITYCODE__ - a code that corresponds to the severity of the collision:  \n",
    "$\\,\\,$ 3 — fatality  \n",
    "$\\,\\,$ 2b — serious injury  \n",
    "$\\,\\,$ 2 — injury  \n",
    "$\\,\\,$ 1 — prop damage  \n",
    "$\\,\\,$ 0 — unknown  \n",
    "__SEVERITYDESC__ - a description of the collision, e.g. Property Damage Only Collision, Injury Collision   \n",
    "__COLLISIONTYPE__ - a description of the collision type, e.g. Parked Car, Rear Ended, Sideswipe  \n",
    "__PERSONCOUNT__ - the total number of people involved  \n",
    "__PEDCOUNT__ - the total number of pedestrians involved  \n",
    "__PEDCYLCOUNT__ - the total number of cyclists involved  \n",
    "__VEHCOUNT__ - the total number of vehicles involved  \n",
    "__INJURIES__ - the total number of injuries other than fatal or disabling at the scene, including broken fingers or toes, abrasions, etc.  \n",
    "__SERIOUSINJURIES__ - total number of injuries that result in at least a temporary impairment, e.g. a broken limb. It does not mean that the collision resulted in a permanent disability  \n",
    "__FATALITIES__ - includes the total number of persons who died at the scene of the collisions, were dead on arrival at the hospital, or died within 30 days of the collision from collision-related injuries  \n",
    "__INCDATE__ - incident date   \n",
    "__INCDTTM__ - date and time of the incident, variable type: text, 30 VARCHAR  \n",
    "__JUNCTIONTYPE__ - category of the junction where the collision took place  \n",
    "__SDOT_COLCODE__ - the SDOT collision code    \n",
    "__SDOT_COLDESC__ - a description of the collision corresponding to the collision code  \n",
    "__INATTENTIONIND__ - whether or not collision was due to inattention. (Y/N)  \n",
    "__UNDERINFL__ - whether or not the driver was under the influence of alcohol or drugs  \n",
    "__WEATHER__ - a description of the weather, e.g. Raining, Clear  \n",
    "__ROADCOND__ - a description of the road conditions, e.g. Dry, Wet  \n",
    "__LIGHTCOND__ - a description of the light conditions, e.g. Dark - No Street Lights, Daylight  \n",
    "__PEDROWNOTGRNT__ - whether or not the pedestrian right of way was not granted. (Y/N)  \n",
    "__SDOTCOLNUM__ - unknown  \n",
    "__SPEEDING__ - whether or not the driver was speeding  \n",
    "__ST_COLCODE__ - code provided by the state that describes the collision, for example: \n",
    "$\\,\\,$ 0 - Vehicle Going Straight Hits Pedestrian  \n",
    "$\\,\\,$ 1 - Vehicle Turning Right Hits Pedestrian  \n",
    "$\\,\\,$ 2 - Vehicle Turning Left Hits Pedestrian  \n",
    "$\\,\\,$ 3 - Vehicle Backing Hits Pedestrian  \n",
    "$\\,\\,$ 4 - Vehicle Hits Pedestrian - All Other Actions  \n",
    "$\\,\\,$ 5 - Vehicle Hits Pedestrian - Actions Not Stated  \n",
    "$\\,\\,$ 10 - Entering At Angle   \n",
    "$\\,\\,$ 11 - From Same Direction - Both Going Straight - Both Moving - Sideswipe  \n",
    "$\\,\\,$ 12 - From Same Direction - Both Going Straight - One Stopped - Sideswipe  \n",
    "$\\,\\,$ 13 - From Same Direction - Both Going Straight - Both Moving - Rear End  \n",
    "$\\,\\,$ ...  \n",
    "__ST_COLDESC__ - a description that corresponds to the state’s coding designation    \n",
    "__SEGLANEKEY__ - a key for the lane segment in which the collision occurred  \n",
    "__CROSSWALKKEY__ - a key for the crosswalk at which the collision occurred  "
   ]
  },
  {
   "cell_type": "code",
   "execution_count": 14,
   "metadata": {},
   "outputs": [
    {
     "data": {
      "text/html": [
       "<div>\n",
       "<style scoped>\n",
       "    .dataframe tbody tr th:only-of-type {\n",
       "        vertical-align: middle;\n",
       "    }\n",
       "\n",
       "    .dataframe tbody tr th {\n",
       "        vertical-align: top;\n",
       "    }\n",
       "\n",
       "    .dataframe thead th {\n",
       "        text-align: right;\n",
       "    }\n",
       "</style>\n",
       "<table border=\"1\" class=\"dataframe\">\n",
       "  <thead>\n",
       "    <tr style=\"text-align: right;\">\n",
       "      <th></th>\n",
       "      <th>x</th>\n",
       "      <th>y</th>\n",
       "      <th>objectid</th>\n",
       "      <th>inckey</th>\n",
       "      <th>coldetkey</th>\n",
       "      <th>reportno</th>\n",
       "      <th>status</th>\n",
       "      <th>addrtype</th>\n",
       "      <th>intkey</th>\n",
       "      <th>location</th>\n",
       "      <th>...</th>\n",
       "      <th>roadcond</th>\n",
       "      <th>lightcond</th>\n",
       "      <th>pedrownotgrnt</th>\n",
       "      <th>sdotcolnum</th>\n",
       "      <th>speeding</th>\n",
       "      <th>st_colcode</th>\n",
       "      <th>st_coldesc</th>\n",
       "      <th>seglanekey</th>\n",
       "      <th>crosswalkkey</th>\n",
       "      <th>hitparkedcar</th>\n",
       "    </tr>\n",
       "  </thead>\n",
       "  <tbody>\n",
       "    <tr>\n",
       "      <th>0</th>\n",
       "      <td>-122.362907</td>\n",
       "      <td>47.558372</td>\n",
       "      <td>1</td>\n",
       "      <td>326120</td>\n",
       "      <td>327620</td>\n",
       "      <td>3824232</td>\n",
       "      <td>Unmatched</td>\n",
       "      <td>Block</td>\n",
       "      <td>NaN</td>\n",
       "      <td>DELRIDGE WAY SW BETWEEN SW EDMUNDS ST AND SW H...</td>\n",
       "      <td>...</td>\n",
       "      <td>NaN</td>\n",
       "      <td>NaN</td>\n",
       "      <td>NaN</td>\n",
       "      <td>NaN</td>\n",
       "      <td>NaN</td>\n",
       "      <td></td>\n",
       "      <td>NaN</td>\n",
       "      <td>0</td>\n",
       "      <td>0</td>\n",
       "      <td>N</td>\n",
       "    </tr>\n",
       "    <tr>\n",
       "      <th>1</th>\n",
       "      <td>-122.301868</td>\n",
       "      <td>47.618931</td>\n",
       "      <td>2</td>\n",
       "      <td>65200</td>\n",
       "      <td>65200</td>\n",
       "      <td>2621299</td>\n",
       "      <td>Matched</td>\n",
       "      <td>Block</td>\n",
       "      <td>NaN</td>\n",
       "      <td>E DENNY WAY BETWEEN 23RD AVE AND 24TH AVE</td>\n",
       "      <td>...</td>\n",
       "      <td>Ice</td>\n",
       "      <td>Dusk</td>\n",
       "      <td>NaN</td>\n",
       "      <td>7015014.0</td>\n",
       "      <td>NaN</td>\n",
       "      <td>32</td>\n",
       "      <td>One parked--one moving</td>\n",
       "      <td>0</td>\n",
       "      <td>0</td>\n",
       "      <td>N</td>\n",
       "    </tr>\n",
       "    <tr>\n",
       "      <th>2</th>\n",
       "      <td>-122.391508</td>\n",
       "      <td>47.669461</td>\n",
       "      <td>3</td>\n",
       "      <td>20100</td>\n",
       "      <td>20100</td>\n",
       "      <td>1473746</td>\n",
       "      <td>Matched</td>\n",
       "      <td>Block</td>\n",
       "      <td>NaN</td>\n",
       "      <td>NW 56TH ST BETWEEN 26TH AVE NW AND 28TH AVE NW</td>\n",
       "      <td>...</td>\n",
       "      <td>Dry</td>\n",
       "      <td>Dark - Street Lights On</td>\n",
       "      <td>NaN</td>\n",
       "      <td>4080013.0</td>\n",
       "      <td>NaN</td>\n",
       "      <td>32</td>\n",
       "      <td>One parked--one moving</td>\n",
       "      <td>0</td>\n",
       "      <td>0</td>\n",
       "      <td>N</td>\n",
       "    </tr>\n",
       "  </tbody>\n",
       "</table>\n",
       "<p>3 rows × 40 columns</p>\n",
       "</div>"
      ],
      "text/plain": [
       "            x          y  objectid  inckey  coldetkey reportno     status  \\\n",
       "0 -122.362907  47.558372         1  326120     327620  3824232  Unmatched   \n",
       "1 -122.301868  47.618931         2   65200      65200  2621299    Matched   \n",
       "2 -122.391508  47.669461         3   20100      20100  1473746    Matched   \n",
       "\n",
       "  addrtype  intkey                                           location  ...  \\\n",
       "0    Block     NaN  DELRIDGE WAY SW BETWEEN SW EDMUNDS ST AND SW H...  ...   \n",
       "1    Block     NaN          E DENNY WAY BETWEEN 23RD AVE AND 24TH AVE  ...   \n",
       "2    Block     NaN     NW 56TH ST BETWEEN 26TH AVE NW AND 28TH AVE NW  ...   \n",
       "\n",
       "  roadcond                lightcond pedrownotgrnt sdotcolnum speeding  \\\n",
       "0      NaN                      NaN           NaN        NaN      NaN   \n",
       "1      Ice                     Dusk           NaN  7015014.0      NaN   \n",
       "2      Dry  Dark - Street Lights On           NaN  4080013.0      NaN   \n",
       "\n",
       "   st_colcode              st_coldesc  seglanekey  crosswalkkey  hitparkedcar  \n",
       "0                                 NaN           0             0             N  \n",
       "1          32  One parked--one moving           0             0             N  \n",
       "2          32  One parked--one moving           0             0             N  \n",
       "\n",
       "[3 rows x 40 columns]"
      ]
     },
     "execution_count": 14,
     "metadata": {},
     "output_type": "execute_result"
    }
   ],
   "source": [
    "#changing all the column names to lowercase or add underscores between words\n",
    "\n",
    "Collision_data.columns = map(str.lower, Collision_data.columns)\n",
    "Collision_data.head(3)"
   ]
  },
  {
   "cell_type": "code",
   "execution_count": 15,
   "metadata": {},
   "outputs": [
    {
     "data": {
      "text/plain": [
       "x                  float64\n",
       "y                  float64\n",
       "objectid             int64\n",
       "inckey               int64\n",
       "coldetkey            int64\n",
       "reportno            object\n",
       "status              object\n",
       "addrtype            object\n",
       "intkey             float64\n",
       "location            object\n",
       "exceptrsncode       object\n",
       "exceptrsndesc       object\n",
       "severitycode        object\n",
       "severitydesc        object\n",
       "collisiontype       object\n",
       "personcount          int64\n",
       "pedcount             int64\n",
       "pedcylcount          int64\n",
       "vehcount             int64\n",
       "injuries             int64\n",
       "seriousinjuries      int64\n",
       "fatalities           int64\n",
       "incdate             object\n",
       "incdttm             object\n",
       "junctiontype        object\n",
       "sdot_colcode       float64\n",
       "sdot_coldesc        object\n",
       "inattentionind      object\n",
       "underinfl           object\n",
       "weather             object\n",
       "roadcond            object\n",
       "lightcond           object\n",
       "pedrownotgrnt       object\n",
       "sdotcolnum         float64\n",
       "speeding            object\n",
       "st_colcode          object\n",
       "st_coldesc          object\n",
       "seglanekey           int64\n",
       "crosswalkkey         int64\n",
       "hitparkedcar        object\n",
       "dtype: object"
      ]
     },
     "execution_count": 15,
     "metadata": {},
     "output_type": "execute_result"
    }
   ],
   "source": [
    "Collision_data.dtypes"
   ]
  },
  {
   "cell_type": "code",
   "execution_count": 17,
   "metadata": {},
   "outputs": [
    {
     "data": {
      "text/html": [
       "<div>\n",
       "<style scoped>\n",
       "    .dataframe tbody tr th:only-of-type {\n",
       "        vertical-align: middle;\n",
       "    }\n",
       "\n",
       "    .dataframe tbody tr th {\n",
       "        vertical-align: top;\n",
       "    }\n",
       "\n",
       "    .dataframe thead th {\n",
       "        text-align: right;\n",
       "    }\n",
       "</style>\n",
       "<table border=\"1\" class=\"dataframe\">\n",
       "  <thead>\n",
       "    <tr style=\"text-align: right;\">\n",
       "      <th></th>\n",
       "      <th>column</th>\n",
       "      <th>values</th>\n",
       "      <th>values_count_incna</th>\n",
       "      <th>values_count_nona</th>\n",
       "      <th>num_miss</th>\n",
       "      <th>pct_miss</th>\n",
       "    </tr>\n",
       "  </thead>\n",
       "  <tbody>\n",
       "    <tr>\n",
       "      <th>0</th>\n",
       "      <td>x</td>\n",
       "      <td>[-122.3629071842, -122.30186814036999, -122.39...</td>\n",
       "      <td>24929</td>\n",
       "      <td>24928</td>\n",
       "      <td>7460</td>\n",
       "      <td>3.4</td>\n",
       "    </tr>\n",
       "    <tr>\n",
       "      <th>0</th>\n",
       "      <td>y</td>\n",
       "      <td>[47.55837153875, 47.6189305718598, 47.66946128...</td>\n",
       "      <td>24929</td>\n",
       "      <td>24928</td>\n",
       "      <td>7460</td>\n",
       "      <td>3.4</td>\n",
       "    </tr>\n",
       "    <tr>\n",
       "      <th>0</th>\n",
       "      <td>objectid</td>\n",
       "      <td>[1, 2, 3, 4, 5, 6, 7, 8, 9, 10, 11, 12, 13, 14...</td>\n",
       "      <td>220338</td>\n",
       "      <td>220338</td>\n",
       "      <td>0</td>\n",
       "      <td>0.0</td>\n",
       "    </tr>\n",
       "    <tr>\n",
       "      <th>0</th>\n",
       "      <td>inckey</td>\n",
       "      <td>[326120, 65200, 20100, 49300, 29800, 1294, 326...</td>\n",
       "      <td>220338</td>\n",
       "      <td>220338</td>\n",
       "      <td>0</td>\n",
       "      <td>0.0</td>\n",
       "    </tr>\n",
       "    <tr>\n",
       "      <th>0</th>\n",
       "      <td>coldetkey</td>\n",
       "      <td>[327620, 65200, 20100, 49300, 29800, 1294, 327...</td>\n",
       "      <td>220338</td>\n",
       "      <td>220338</td>\n",
       "      <td>0</td>\n",
       "      <td>0.0</td>\n",
       "    </tr>\n",
       "    <tr>\n",
       "      <th>0</th>\n",
       "      <td>reportno</td>\n",
       "      <td>[3824232, 2621299, 1473746, 2072241, 1177964, ...</td>\n",
       "      <td>220335</td>\n",
       "      <td>220335</td>\n",
       "      <td>0</td>\n",
       "      <td>0.0</td>\n",
       "    </tr>\n",
       "    <tr>\n",
       "      <th>0</th>\n",
       "      <td>status</td>\n",
       "      <td>[Unmatched, Matched]</td>\n",
       "      <td>2</td>\n",
       "      <td>2</td>\n",
       "      <td>0</td>\n",
       "      <td>0.0</td>\n",
       "    </tr>\n",
       "    <tr>\n",
       "      <th>0</th>\n",
       "      <td>addrtype</td>\n",
       "      <td>[Block, Intersection, nan, Alley]</td>\n",
       "      <td>4</td>\n",
       "      <td>3</td>\n",
       "      <td>3706</td>\n",
       "      <td>1.7</td>\n",
       "    </tr>\n",
       "    <tr>\n",
       "      <th>0</th>\n",
       "      <td>intkey</td>\n",
       "      <td>[nan, 28927.0, 29328.0, 37466.0, 26848.0, 2560...</td>\n",
       "      <td>7895</td>\n",
       "      <td>7894</td>\n",
       "      <td>148866</td>\n",
       "      <td>67.6</td>\n",
       "    </tr>\n",
       "    <tr>\n",
       "      <th>0</th>\n",
       "      <td>location</td>\n",
       "      <td>[DELRIDGE WAY SW BETWEEN SW EDMUNDS ST AND SW ...</td>\n",
       "      <td>25157</td>\n",
       "      <td>25156</td>\n",
       "      <td>4575</td>\n",
       "      <td>2.1</td>\n",
       "    </tr>\n",
       "    <tr>\n",
       "      <th>0</th>\n",
       "      <td>exceptrsncode</td>\n",
       "      <td>[ , nan, NEI]</td>\n",
       "      <td>3</td>\n",
       "      <td>2</td>\n",
       "      <td>120403</td>\n",
       "      <td>54.6</td>\n",
       "    </tr>\n",
       "    <tr>\n",
       "      <th>0</th>\n",
       "      <td>exceptrsndesc</td>\n",
       "      <td>[nan, Not Enough Information, or Insufficient ...</td>\n",
       "      <td>2</td>\n",
       "      <td>1</td>\n",
       "      <td>208593</td>\n",
       "      <td>94.7</td>\n",
       "    </tr>\n",
       "    <tr>\n",
       "      <th>0</th>\n",
       "      <td>severitycode</td>\n",
       "      <td>[1, 2, 0, 3, 2b, nan]</td>\n",
       "      <td>6</td>\n",
       "      <td>5</td>\n",
       "      <td>1</td>\n",
       "      <td>0.0</td>\n",
       "    </tr>\n",
       "    <tr>\n",
       "      <th>0</th>\n",
       "      <td>severitydesc</td>\n",
       "      <td>[Property Damage Only Collision, Injury Collis...</td>\n",
       "      <td>5</td>\n",
       "      <td>5</td>\n",
       "      <td>0</td>\n",
       "      <td>0.0</td>\n",
       "    </tr>\n",
       "    <tr>\n",
       "      <th>0</th>\n",
       "      <td>collisiontype</td>\n",
       "      <td>[nan, Parked Car, Angles, Sideswipe, Rear Ende...</td>\n",
       "      <td>11</td>\n",
       "      <td>10</td>\n",
       "      <td>26152</td>\n",
       "      <td>11.9</td>\n",
       "    </tr>\n",
       "    <tr>\n",
       "      <th>0</th>\n",
       "      <td>personcount</td>\n",
       "      <td>[1, 2, 4, 0, 3, 5, 6, 7, 8, 17, 16, 11, 12, 9,...</td>\n",
       "      <td>48</td>\n",
       "      <td>48</td>\n",
       "      <td>0</td>\n",
       "      <td>0.0</td>\n",
       "    </tr>\n",
       "    <tr>\n",
       "      <th>0</th>\n",
       "      <td>pedcount</td>\n",
       "      <td>[0, 1, 2, 3, 4, 5, 6]</td>\n",
       "      <td>7</td>\n",
       "      <td>7</td>\n",
       "      <td>0</td>\n",
       "      <td>0.0</td>\n",
       "    </tr>\n",
       "    <tr>\n",
       "      <th>0</th>\n",
       "      <td>pedcylcount</td>\n",
       "      <td>[0, 1, 2]</td>\n",
       "      <td>3</td>\n",
       "      <td>3</td>\n",
       "      <td>0</td>\n",
       "      <td>0.0</td>\n",
       "    </tr>\n",
       "    <tr>\n",
       "      <th>0</th>\n",
       "      <td>vehcount</td>\n",
       "      <td>[0, 2, 3, 1, 4, 7, 5, 6, 8, 11, 9, 14, 10, 12,...</td>\n",
       "      <td>16</td>\n",
       "      <td>16</td>\n",
       "      <td>0</td>\n",
       "      <td>0.0</td>\n",
       "    </tr>\n",
       "    <tr>\n",
       "      <th>0</th>\n",
       "      <td>injuries</td>\n",
       "      <td>[0, 3, 2, 1, 4, 5, 6, 7, 8, 11, 9, 13, 10, 12,...</td>\n",
       "      <td>16</td>\n",
       "      <td>16</td>\n",
       "      <td>0</td>\n",
       "      <td>0.0</td>\n",
       "    </tr>\n",
       "    <tr>\n",
       "      <th>0</th>\n",
       "      <td>seriousinjuries</td>\n",
       "      <td>[0, 1, 2, 3, 5, 4, 41]</td>\n",
       "      <td>7</td>\n",
       "      <td>7</td>\n",
       "      <td>0</td>\n",
       "      <td>0.0</td>\n",
       "    </tr>\n",
       "    <tr>\n",
       "      <th>0</th>\n",
       "      <td>fatalities</td>\n",
       "      <td>[0, 2, 1, 4, 3, 5]</td>\n",
       "      <td>6</td>\n",
       "      <td>6</td>\n",
       "      <td>0</td>\n",
       "      <td>0.0</td>\n",
       "    </tr>\n",
       "    <tr>\n",
       "      <th>0</th>\n",
       "      <td>incdate</td>\n",
       "      <td>[2019/11/16 00:00:00+00, 2007/01/15 00:00:00+0...</td>\n",
       "      <td>6033</td>\n",
       "      <td>6033</td>\n",
       "      <td>0</td>\n",
       "      <td>0.0</td>\n",
       "    </tr>\n",
       "    <tr>\n",
       "      <th>0</th>\n",
       "      <td>incdttm</td>\n",
       "      <td>[11/16/2019, 1/15/2007 4:25:00 PM, 3/20/2004 1...</td>\n",
       "      <td>168501</td>\n",
       "      <td>168501</td>\n",
       "      <td>0</td>\n",
       "      <td>0.0</td>\n",
       "    </tr>\n",
       "    <tr>\n",
       "      <th>0</th>\n",
       "      <td>junctiontype</td>\n",
       "      <td>[Mid-Block (not related to intersection), Driv...</td>\n",
       "      <td>8</td>\n",
       "      <td>7</td>\n",
       "      <td>11934</td>\n",
       "      <td>5.4</td>\n",
       "    </tr>\n",
       "    <tr>\n",
       "      <th>0</th>\n",
       "      <td>sdot_colcode</td>\n",
       "      <td>[16.0, 12.0, 11.0, 0.0, 13.0, 14.0, 28.0, 24.0...</td>\n",
       "      <td>41</td>\n",
       "      <td>40</td>\n",
       "      <td>1</td>\n",
       "      <td>0.0</td>\n",
       "    </tr>\n",
       "    <tr>\n",
       "      <th>0</th>\n",
       "      <td>sdot_coldesc</td>\n",
       "      <td>[MOTOR VEHICLE STRUCK MOTOR VEHICLE, LEFT SIDE...</td>\n",
       "      <td>41</td>\n",
       "      <td>40</td>\n",
       "      <td>1</td>\n",
       "      <td>0.0</td>\n",
       "    </tr>\n",
       "    <tr>\n",
       "      <th>0</th>\n",
       "      <td>inattentionind</td>\n",
       "      <td>[nan, Y]</td>\n",
       "      <td>2</td>\n",
       "      <td>1</td>\n",
       "      <td>190151</td>\n",
       "      <td>86.3</td>\n",
       "    </tr>\n",
       "    <tr>\n",
       "      <th>0</th>\n",
       "      <td>underinfl</td>\n",
       "      <td>[nan, 0, N, Y, 1]</td>\n",
       "      <td>5</td>\n",
       "      <td>4</td>\n",
       "      <td>26132</td>\n",
       "      <td>11.9</td>\n",
       "    </tr>\n",
       "    <tr>\n",
       "      <th>0</th>\n",
       "      <td>weather</td>\n",
       "      <td>[nan, Clear, Raining, Overcast, Unknown, Other...</td>\n",
       "      <td>12</td>\n",
       "      <td>11</td>\n",
       "      <td>26340</td>\n",
       "      <td>12.0</td>\n",
       "    </tr>\n",
       "    <tr>\n",
       "      <th>0</th>\n",
       "      <td>roadcond</td>\n",
       "      <td>[nan, Ice, Dry, Wet, Unknown, Snow/Slush, Oil,...</td>\n",
       "      <td>10</td>\n",
       "      <td>9</td>\n",
       "      <td>26260</td>\n",
       "      <td>11.9</td>\n",
       "    </tr>\n",
       "    <tr>\n",
       "      <th>0</th>\n",
       "      <td>lightcond</td>\n",
       "      <td>[nan, Dusk, Dark - Street Lights On, Daylight,...</td>\n",
       "      <td>10</td>\n",
       "      <td>9</td>\n",
       "      <td>26429</td>\n",
       "      <td>12.0</td>\n",
       "    </tr>\n",
       "    <tr>\n",
       "      <th>0</th>\n",
       "      <td>pedrownotgrnt</td>\n",
       "      <td>[nan, Y]</td>\n",
       "      <td>2</td>\n",
       "      <td>1</td>\n",
       "      <td>215161</td>\n",
       "      <td>97.7</td>\n",
       "    </tr>\n",
       "    <tr>\n",
       "      <th>0</th>\n",
       "      <td>sdotcolnum</td>\n",
       "      <td>[nan, 7015014.0, 4080013.0, 6154013.0, 4315006...</td>\n",
       "      <td>127187</td>\n",
       "      <td>127186</td>\n",
       "      <td>93133</td>\n",
       "      <td>42.3</td>\n",
       "    </tr>\n",
       "    <tr>\n",
       "      <th>0</th>\n",
       "      <td>speeding</td>\n",
       "      <td>[nan, Y]</td>\n",
       "      <td>2</td>\n",
       "      <td>1</td>\n",
       "      <td>210468</td>\n",
       "      <td>95.5</td>\n",
       "    </tr>\n",
       "    <tr>\n",
       "      <th>0</th>\n",
       "      <td>st_colcode</td>\n",
       "      <td>[ , 32, 10, nan, 12, 14, 16, 28, 22, 50, 0, 45...</td>\n",
       "      <td>64</td>\n",
       "      <td>63</td>\n",
       "      <td>9413</td>\n",
       "      <td>4.3</td>\n",
       "    </tr>\n",
       "    <tr>\n",
       "      <th>0</th>\n",
       "      <td>st_coldesc</td>\n",
       "      <td>[nan, One parked--one moving, Entering at angl...</td>\n",
       "      <td>63</td>\n",
       "      <td>62</td>\n",
       "      <td>26152</td>\n",
       "      <td>11.9</td>\n",
       "    </tr>\n",
       "    <tr>\n",
       "      <th>0</th>\n",
       "      <td>seglanekey</td>\n",
       "      <td>[0, 10453, 29054, 36282, 12179, 25242, 5012, 1...</td>\n",
       "      <td>2101</td>\n",
       "      <td>2101</td>\n",
       "      <td>0</td>\n",
       "      <td>0.0</td>\n",
       "    </tr>\n",
       "    <tr>\n",
       "      <th>0</th>\n",
       "      <td>crosswalkkey</td>\n",
       "      <td>[0, 619243, 523825, 522873, 525149, 524507, 52...</td>\n",
       "      <td>2342</td>\n",
       "      <td>2342</td>\n",
       "      <td>0</td>\n",
       "      <td>0.0</td>\n",
       "    </tr>\n",
       "    <tr>\n",
       "      <th>0</th>\n",
       "      <td>hitparkedcar</td>\n",
       "      <td>[N, Y]</td>\n",
       "      <td>2</td>\n",
       "      <td>2</td>\n",
       "      <td>0</td>\n",
       "      <td>0.0</td>\n",
       "    </tr>\n",
       "  </tbody>\n",
       "</table>\n",
       "</div>"
      ],
      "text/plain": [
       "            column                                             values  \\\n",
       "0                x  [-122.3629071842, -122.30186814036999, -122.39...   \n",
       "0                y  [47.55837153875, 47.6189305718598, 47.66946128...   \n",
       "0         objectid  [1, 2, 3, 4, 5, 6, 7, 8, 9, 10, 11, 12, 13, 14...   \n",
       "0           inckey  [326120, 65200, 20100, 49300, 29800, 1294, 326...   \n",
       "0        coldetkey  [327620, 65200, 20100, 49300, 29800, 1294, 327...   \n",
       "0         reportno  [3824232, 2621299, 1473746, 2072241, 1177964, ...   \n",
       "0           status                               [Unmatched, Matched]   \n",
       "0         addrtype                  [Block, Intersection, nan, Alley]   \n",
       "0           intkey  [nan, 28927.0, 29328.0, 37466.0, 26848.0, 2560...   \n",
       "0         location  [DELRIDGE WAY SW BETWEEN SW EDMUNDS ST AND SW ...   \n",
       "0    exceptrsncode                                      [ , nan, NEI]   \n",
       "0    exceptrsndesc  [nan, Not Enough Information, or Insufficient ...   \n",
       "0     severitycode                              [1, 2, 0, 3, 2b, nan]   \n",
       "0     severitydesc  [Property Damage Only Collision, Injury Collis...   \n",
       "0    collisiontype  [nan, Parked Car, Angles, Sideswipe, Rear Ende...   \n",
       "0      personcount  [1, 2, 4, 0, 3, 5, 6, 7, 8, 17, 16, 11, 12, 9,...   \n",
       "0         pedcount                              [0, 1, 2, 3, 4, 5, 6]   \n",
       "0      pedcylcount                                          [0, 1, 2]   \n",
       "0         vehcount  [0, 2, 3, 1, 4, 7, 5, 6, 8, 11, 9, 14, 10, 12,...   \n",
       "0         injuries  [0, 3, 2, 1, 4, 5, 6, 7, 8, 11, 9, 13, 10, 12,...   \n",
       "0  seriousinjuries                             [0, 1, 2, 3, 5, 4, 41]   \n",
       "0       fatalities                                 [0, 2, 1, 4, 3, 5]   \n",
       "0          incdate  [2019/11/16 00:00:00+00, 2007/01/15 00:00:00+0...   \n",
       "0          incdttm  [11/16/2019, 1/15/2007 4:25:00 PM, 3/20/2004 1...   \n",
       "0     junctiontype  [Mid-Block (not related to intersection), Driv...   \n",
       "0     sdot_colcode  [16.0, 12.0, 11.0, 0.0, 13.0, 14.0, 28.0, 24.0...   \n",
       "0     sdot_coldesc  [MOTOR VEHICLE STRUCK MOTOR VEHICLE, LEFT SIDE...   \n",
       "0   inattentionind                                           [nan, Y]   \n",
       "0        underinfl                                  [nan, 0, N, Y, 1]   \n",
       "0          weather  [nan, Clear, Raining, Overcast, Unknown, Other...   \n",
       "0         roadcond  [nan, Ice, Dry, Wet, Unknown, Snow/Slush, Oil,...   \n",
       "0        lightcond  [nan, Dusk, Dark - Street Lights On, Daylight,...   \n",
       "0    pedrownotgrnt                                           [nan, Y]   \n",
       "0       sdotcolnum  [nan, 7015014.0, 4080013.0, 6154013.0, 4315006...   \n",
       "0         speeding                                           [nan, Y]   \n",
       "0       st_colcode  [ , 32, 10, nan, 12, 14, 16, 28, 22, 50, 0, 45...   \n",
       "0       st_coldesc  [nan, One parked--one moving, Entering at angl...   \n",
       "0       seglanekey  [0, 10453, 29054, 36282, 12179, 25242, 5012, 1...   \n",
       "0     crosswalkkey  [0, 619243, 523825, 522873, 525149, 524507, 52...   \n",
       "0     hitparkedcar                                             [N, Y]   \n",
       "\n",
       "  values_count_incna values_count_nona num_miss  pct_miss  \n",
       "0              24929             24928     7460       3.4  \n",
       "0              24929             24928     7460       3.4  \n",
       "0             220338            220338        0       0.0  \n",
       "0             220338            220338        0       0.0  \n",
       "0             220338            220338        0       0.0  \n",
       "0             220335            220335        0       0.0  \n",
       "0                  2                 2        0       0.0  \n",
       "0                  4                 3     3706       1.7  \n",
       "0               7895              7894   148866      67.6  \n",
       "0              25157             25156     4575       2.1  \n",
       "0                  3                 2   120403      54.6  \n",
       "0                  2                 1   208593      94.7  \n",
       "0                  6                 5        1       0.0  \n",
       "0                  5                 5        0       0.0  \n",
       "0                 11                10    26152      11.9  \n",
       "0                 48                48        0       0.0  \n",
       "0                  7                 7        0       0.0  \n",
       "0                  3                 3        0       0.0  \n",
       "0                 16                16        0       0.0  \n",
       "0                 16                16        0       0.0  \n",
       "0                  7                 7        0       0.0  \n",
       "0                  6                 6        0       0.0  \n",
       "0               6033              6033        0       0.0  \n",
       "0             168501            168501        0       0.0  \n",
       "0                  8                 7    11934       5.4  \n",
       "0                 41                40        1       0.0  \n",
       "0                 41                40        1       0.0  \n",
       "0                  2                 1   190151      86.3  \n",
       "0                  5                 4    26132      11.9  \n",
       "0                 12                11    26340      12.0  \n",
       "0                 10                 9    26260      11.9  \n",
       "0                 10                 9    26429      12.0  \n",
       "0                  2                 1   215161      97.7  \n",
       "0             127187            127186    93133      42.3  \n",
       "0                  2                 1   210468      95.5  \n",
       "0                 64                63     9413       4.3  \n",
       "0                 63                62    26152      11.9  \n",
       "0               2101              2101        0       0.0  \n",
       "0               2342              2342        0       0.0  \n",
       "0                  2                 2        0       0.0  "
      ]
     },
     "execution_count": 17,
     "metadata": {},
     "output_type": "execute_result"
    }
   ],
   "source": [
    "#Basic Statistical evaluation to familiarize with the data and some quick observations\n",
    "Collision_data_stats = pd.DataFrame(columns = ['column', 'values', 'values_count_incna', 'values_count_nona', \n",
    "                                       'num_miss', 'pct_miss'])\n",
    "tmp = pd.DataFrame()\n",
    "\n",
    "for c in Collision_data.columns:\n",
    "    tmp['column'] = [c]\n",
    "    tmp['values'] = [Collision_data[c].unique()]\n",
    "    tmp['values_count_incna'] = len(list(Collision_data[c].unique()))\n",
    "    tmp['values_count_nona'] = int(Collision_data[c].nunique())\n",
    "    tmp['num_miss'] = Collision_data[c].isnull().sum()\n",
    "    tmp['pct_miss'] = (Collision_data[c].isnull().sum()/ len(Collision_data)).round(3)*100\n",
    "    Collision_data_stats = Collision_data_stats.append(tmp)\n",
    "    \n",
    "Collision_data_stats"
   ]
  },
  {
   "cell_type": "code",
   "execution_count": 22,
   "metadata": {},
   "outputs": [
    {
     "data": {
      "text/html": [
       "<div>\n",
       "<style scoped>\n",
       "    .dataframe tbody tr th:only-of-type {\n",
       "        vertical-align: middle;\n",
       "    }\n",
       "\n",
       "    .dataframe tbody tr th {\n",
       "        vertical-align: top;\n",
       "    }\n",
       "\n",
       "    .dataframe thead th {\n",
       "        text-align: right;\n",
       "    }\n",
       "</style>\n",
       "<table border=\"1\" class=\"dataframe\">\n",
       "  <thead>\n",
       "    <tr style=\"text-align: right;\">\n",
       "      <th></th>\n",
       "      <th>values</th>\n",
       "      <th>values_count_incna</th>\n",
       "      <th>values_count_nona</th>\n",
       "      <th>num_miss</th>\n",
       "      <th>pct_miss</th>\n",
       "    </tr>\n",
       "    <tr>\n",
       "      <th>column</th>\n",
       "      <th></th>\n",
       "      <th></th>\n",
       "      <th></th>\n",
       "      <th></th>\n",
       "      <th></th>\n",
       "    </tr>\n",
       "  </thead>\n",
       "  <tbody>\n",
       "    <tr>\n",
       "      <th>pedrownotgrnt</th>\n",
       "      <td>[nan, Y]</td>\n",
       "      <td>2</td>\n",
       "      <td>1</td>\n",
       "      <td>215161</td>\n",
       "      <td>97.7</td>\n",
       "    </tr>\n",
       "    <tr>\n",
       "      <th>speeding</th>\n",
       "      <td>[nan, Y]</td>\n",
       "      <td>2</td>\n",
       "      <td>1</td>\n",
       "      <td>210468</td>\n",
       "      <td>95.5</td>\n",
       "    </tr>\n",
       "    <tr>\n",
       "      <th>exceptrsndesc</th>\n",
       "      <td>[nan, Not Enough Information, or Insufficient ...</td>\n",
       "      <td>2</td>\n",
       "      <td>1</td>\n",
       "      <td>208593</td>\n",
       "      <td>94.7</td>\n",
       "    </tr>\n",
       "    <tr>\n",
       "      <th>inattentionind</th>\n",
       "      <td>[nan, Y]</td>\n",
       "      <td>2</td>\n",
       "      <td>1</td>\n",
       "      <td>190151</td>\n",
       "      <td>86.3</td>\n",
       "    </tr>\n",
       "    <tr>\n",
       "      <th>intkey</th>\n",
       "      <td>[nan, 28927.0, 29328.0, 37466.0, 26848.0, 2560...</td>\n",
       "      <td>7895</td>\n",
       "      <td>7894</td>\n",
       "      <td>148866</td>\n",
       "      <td>67.6</td>\n",
       "    </tr>\n",
       "  </tbody>\n",
       "</table>\n",
       "</div>"
      ],
      "text/plain": [
       "                                                           values  \\\n",
       "column                                                              \n",
       "pedrownotgrnt                                            [nan, Y]   \n",
       "speeding                                                 [nan, Y]   \n",
       "exceptrsndesc   [nan, Not Enough Information, or Insufficient ...   \n",
       "inattentionind                                           [nan, Y]   \n",
       "intkey          [nan, 28927.0, 29328.0, 37466.0, 26848.0, 2560...   \n",
       "\n",
       "               values_count_incna values_count_nona num_miss  pct_miss  \n",
       "column                                                                  \n",
       "pedrownotgrnt                   2                 1   215161      97.7  \n",
       "speeding                        2                 1   210468      95.5  \n",
       "exceptrsndesc                   2                 1   208593      94.7  \n",
       "inattentionind                  2                 1   190151      86.3  \n",
       "intkey                       7895              7894   148866      67.6  "
      ]
     },
     "execution_count": 22,
     "metadata": {},
     "output_type": "execute_result"
    }
   ],
   "source": [
    "#This step is for cases where there might be missing values\n",
    "Collision_data_stats.sort_values(by = 'pct_miss', ascending = False).head(5)"
   ]
  },
  {
   "cell_type": "code",
   "execution_count": 20,
   "metadata": {},
   "outputs": [],
   "source": [
    "Collision_data_clean = Collision_data.copy()"
   ]
  },
  {
   "cell_type": "code",
   "execution_count": 30,
   "metadata": {},
   "outputs": [],
   "source": [
    "#Basic Statistical evaluation to familiarize with the data and some quick observations\n",
    "Collision_data_clean_stats = pd.DataFrame(columns = ['column', 'values', 'values_count_incna', 'values_count_nona', \n",
    "                                       'num_miss', 'pct_miss'])\n",
    "tmp = pd.DataFrame()\n",
    "\n",
    "for c in Collision_data_clean.columns:\n",
    "    tmp['column'] = [c]\n",
    "    tmp['values'] = [Collision_data_clean[c].unique()]\n",
    "    tmp['values_count_incna'] = len(list(Collision_data_clean[c].unique()))\n",
    "    tmp['values_count_nona'] = int(Collision_data_clean[c].nunique())\n",
    "    tmp['num_miss'] = Collision_data_clean[c].isnull().sum()\n",
    "    tmp['pct_miss'] = (Collision_data_clean[c].isnull().sum()/ len(Collision_data_clean)).round(3)*100\n",
    "    Collision_data_clean_stats = Collision_data_clean_stats.append(tmp)"
   ]
  },
  {
   "cell_type": "code",
   "execution_count": 31,
   "metadata": {},
   "outputs": [
    {
     "data": {
      "text/html": [
       "<div>\n",
       "<style scoped>\n",
       "    .dataframe tbody tr th:only-of-type {\n",
       "        vertical-align: middle;\n",
       "    }\n",
       "\n",
       "    .dataframe tbody tr th {\n",
       "        vertical-align: top;\n",
       "    }\n",
       "\n",
       "    .dataframe thead th {\n",
       "        text-align: right;\n",
       "    }\n",
       "</style>\n",
       "<table border=\"1\" class=\"dataframe\">\n",
       "  <thead>\n",
       "    <tr style=\"text-align: right;\">\n",
       "      <th></th>\n",
       "      <th>column</th>\n",
       "      <th>values</th>\n",
       "      <th>values_count_incna</th>\n",
       "      <th>values_count_nona</th>\n",
       "      <th>num_miss</th>\n",
       "      <th>pct_miss</th>\n",
       "    </tr>\n",
       "  </thead>\n",
       "  <tbody>\n",
       "    <tr>\n",
       "      <th>0</th>\n",
       "      <td>st_coldesc</td>\n",
       "      <td>[nan, One parked--one moving]</td>\n",
       "      <td>2</td>\n",
       "      <td>1</td>\n",
       "      <td>1</td>\n",
       "      <td>33.3</td>\n",
       "    </tr>\n",
       "    <tr>\n",
       "      <th>0</th>\n",
       "      <td>sdotcolnum</td>\n",
       "      <td>[nan, 7015014.0, 4080013.0]</td>\n",
       "      <td>3</td>\n",
       "      <td>2</td>\n",
       "      <td>1</td>\n",
       "      <td>33.3</td>\n",
       "    </tr>\n",
       "    <tr>\n",
       "      <th>0</th>\n",
       "      <td>collisiontype</td>\n",
       "      <td>[nan, Parked Car]</td>\n",
       "      <td>2</td>\n",
       "      <td>1</td>\n",
       "      <td>1</td>\n",
       "      <td>33.3</td>\n",
       "    </tr>\n",
       "    <tr>\n",
       "      <th>0</th>\n",
       "      <td>lightcond</td>\n",
       "      <td>[nan, Dusk, Dark - Street Lights On]</td>\n",
       "      <td>3</td>\n",
       "      <td>2</td>\n",
       "      <td>1</td>\n",
       "      <td>33.3</td>\n",
       "    </tr>\n",
       "    <tr>\n",
       "      <th>0</th>\n",
       "      <td>roadcond</td>\n",
       "      <td>[nan, Ice, Dry]</td>\n",
       "      <td>3</td>\n",
       "      <td>2</td>\n",
       "      <td>1</td>\n",
       "      <td>33.3</td>\n",
       "    </tr>\n",
       "  </tbody>\n",
       "</table>\n",
       "</div>"
      ],
      "text/plain": [
       "          column                                values values_count_incna  \\\n",
       "0     st_coldesc         [nan, One parked--one moving]                  2   \n",
       "0     sdotcolnum           [nan, 7015014.0, 4080013.0]                  3   \n",
       "0  collisiontype                     [nan, Parked Car]                  2   \n",
       "0      lightcond  [nan, Dusk, Dark - Street Lights On]                  3   \n",
       "0       roadcond                       [nan, Ice, Dry]                  3   \n",
       "\n",
       "  values_count_nona num_miss  pct_miss  \n",
       "0                 1        1      33.3  \n",
       "0                 2        1      33.3  \n",
       "0                 1        1      33.3  \n",
       "0                 2        1      33.3  \n",
       "0                 2        1      33.3  "
      ]
     },
     "execution_count": 31,
     "metadata": {},
     "output_type": "execute_result"
    }
   ],
   "source": [
    "Collision_data_clean_stats.sort_values(by = 'pct_miss', ascending = False).head(5)"
   ]
  },
  {
   "cell_type": "markdown",
   "metadata": {},
   "source": [
    "The original tablle have some (very few) rows as Y (yes) for \"speeding\", \"inattentionind\" and \"pedrownotgrnt\". \n",
    "Can the blanks be considered as \"N\"? Probably not."
   ]
  },
  {
   "cell_type": "code",
   "execution_count": 26,
   "metadata": {},
   "outputs": [],
   "source": [
    "#Dropping some more columns\n",
    "#   1) Columns that are unknown: exceptrsncode, exceptrsndesc\n",
    "\n",
    "Collision_data_clean = Collision_data_clean.drop(columns=[\"exceptrsncode\", \"exceptrsndesc\"], \n",
    "                                           inplace=False).head(3)\n"
   ]
  },
  {
   "cell_type": "code",
   "execution_count": 29,
   "metadata": {},
   "outputs": [],
   "source": [
    "#Dropping some more columns\n",
    "#   1) Missing valued columns: speeding, inattentionind and pedrownotgrnt\n",
    "\n",
    "Collision_data_clean = Collision_data_clean.drop(columns=[\"speeding\", \"inattentionind\", \n",
    "                                                          \"pedrownotgrnt\"], \n",
    "                                           inplace=False).head(3)"
   ]
  },
  {
   "cell_type": "markdown",
   "metadata": {},
   "source": [
    "Now we visualize the Frequency distribution of all the features with respect to our target feature and \n",
    "look at some plots"
   ]
  },
  {
   "cell_type": "code",
   "execution_count": 33,
   "metadata": {},
   "outputs": [
    {
     "data": {
      "text/html": [
       "<div>\n",
       "<style scoped>\n",
       "    .dataframe tbody tr th:only-of-type {\n",
       "        vertical-align: middle;\n",
       "    }\n",
       "\n",
       "    .dataframe tbody tr th {\n",
       "        vertical-align: top;\n",
       "    }\n",
       "\n",
       "    .dataframe thead th {\n",
       "        text-align: right;\n",
       "    }\n",
       "</style>\n",
       "<table border=\"1\" class=\"dataframe\">\n",
       "  <thead>\n",
       "    <tr style=\"text-align: right;\">\n",
       "      <th></th>\n",
       "      <th>status</th>\n",
       "      <th>addrtype</th>\n",
       "      <th>location</th>\n",
       "      <th>severitycode</th>\n",
       "      <th>severitydesc</th>\n",
       "      <th>collisiontype</th>\n",
       "      <th>incdate</th>\n",
       "      <th>incdttm</th>\n",
       "      <th>junctiontype</th>\n",
       "      <th>sdot_coldesc</th>\n",
       "      <th>underinfl</th>\n",
       "      <th>weather</th>\n",
       "      <th>roadcond</th>\n",
       "      <th>lightcond</th>\n",
       "      <th>st_colcode</th>\n",
       "      <th>st_coldesc</th>\n",
       "      <th>hitparkedcar</th>\n",
       "    </tr>\n",
       "  </thead>\n",
       "  <tbody>\n",
       "    <tr>\n",
       "      <th>0</th>\n",
       "      <td>Unmatched</td>\n",
       "      <td>Block</td>\n",
       "      <td>DELRIDGE WAY SW BETWEEN SW EDMUNDS ST AND SW H...</td>\n",
       "      <td>1</td>\n",
       "      <td>Property Damage Only Collision</td>\n",
       "      <td>NaN</td>\n",
       "      <td>2019/11/16 00:00:00+00</td>\n",
       "      <td>11/16/2019</td>\n",
       "      <td>Mid-Block (not related to intersection)</td>\n",
       "      <td>MOTOR VEHICLE STRUCK MOTOR VEHICLE, LEFT SIDE ...</td>\n",
       "      <td>NaN</td>\n",
       "      <td>NaN</td>\n",
       "      <td>NaN</td>\n",
       "      <td>NaN</td>\n",
       "      <td></td>\n",
       "      <td>NaN</td>\n",
       "      <td>N</td>\n",
       "    </tr>\n",
       "    <tr>\n",
       "      <th>1</th>\n",
       "      <td>Matched</td>\n",
       "      <td>Block</td>\n",
       "      <td>E DENNY WAY BETWEEN 23RD AVE AND 24TH AVE</td>\n",
       "      <td>1</td>\n",
       "      <td>Property Damage Only Collision</td>\n",
       "      <td>Parked Car</td>\n",
       "      <td>2007/01/15 00:00:00+00</td>\n",
       "      <td>1/15/2007 4:25:00 PM</td>\n",
       "      <td>Mid-Block (not related to intersection)</td>\n",
       "      <td>MOTOR VEHICLE STRUCK MOTOR VEHICLE, RIGHT SIDE...</td>\n",
       "      <td>0</td>\n",
       "      <td>Clear</td>\n",
       "      <td>Ice</td>\n",
       "      <td>Dusk</td>\n",
       "      <td>32</td>\n",
       "      <td>One parked--one moving</td>\n",
       "      <td>N</td>\n",
       "    </tr>\n",
       "  </tbody>\n",
       "</table>\n",
       "</div>"
      ],
      "text/plain": [
       "      status addrtype                                           location  \\\n",
       "0  Unmatched    Block  DELRIDGE WAY SW BETWEEN SW EDMUNDS ST AND SW H...   \n",
       "1    Matched    Block          E DENNY WAY BETWEEN 23RD AVE AND 24TH AVE   \n",
       "\n",
       "  severitycode                    severitydesc collisiontype  \\\n",
       "0            1  Property Damage Only Collision           NaN   \n",
       "1            1  Property Damage Only Collision    Parked Car   \n",
       "\n",
       "                  incdate               incdttm  \\\n",
       "0  2019/11/16 00:00:00+00            11/16/2019   \n",
       "1  2007/01/15 00:00:00+00  1/15/2007 4:25:00 PM   \n",
       "\n",
       "                              junctiontype  \\\n",
       "0  Mid-Block (not related to intersection)   \n",
       "1  Mid-Block (not related to intersection)   \n",
       "\n",
       "                                        sdot_coldesc underinfl weather  \\\n",
       "0  MOTOR VEHICLE STRUCK MOTOR VEHICLE, LEFT SIDE ...       NaN     NaN   \n",
       "1  MOTOR VEHICLE STRUCK MOTOR VEHICLE, RIGHT SIDE...         0   Clear   \n",
       "\n",
       "  roadcond lightcond st_colcode              st_coldesc hitparkedcar  \n",
       "0      NaN       NaN                                NaN            N  \n",
       "1      Ice      Dusk         32  One parked--one moving            N  "
      ]
     },
     "execution_count": 33,
     "metadata": {},
     "output_type": "execute_result"
    }
   ],
   "source": [
    "#Creating a separate dataframe which has only Categorical Variables\n",
    "Collision_data_cat = Collision_data_clean.select_dtypes(include = 'object').copy()\n",
    "Collision_data_cat.head(2)"
   ]
  },
  {
   "cell_type": "code",
   "execution_count": 34,
   "metadata": {},
   "outputs": [
    {
     "data": {
      "text/plain": [
       "<matplotlib.axes._subplots.AxesSubplot at 0x7fb042902d90>"
      ]
     },
     "execution_count": 34,
     "metadata": {},
     "output_type": "execute_result"
    },
    {
     "data": {
      "text/plain": [
       "<matplotlib.axes._subplots.AxesSubplot at 0x7fb0397cf190>"
      ]
     },
     "execution_count": 34,
     "metadata": {},
     "output_type": "execute_result"
    },
    {
     "data": {
      "text/plain": [
       "<matplotlib.axes._subplots.AxesSubplot at 0x7fb0397cf190>"
      ]
     },
     "execution_count": 34,
     "metadata": {},
     "output_type": "execute_result"
    },
    {
     "data": {
      "text/plain": [
       "<matplotlib.axes._subplots.AxesSubplot at 0x7fb0373f9f10>"
      ]
     },
     "execution_count": 34,
     "metadata": {},
     "output_type": "execute_result"
    },
    {
     "data": {
      "text/plain": [
       "<matplotlib.axes._subplots.AxesSubplot at 0x7fb037f83550>"
      ]
     },
     "execution_count": 34,
     "metadata": {},
     "output_type": "execute_result"
    },
    {
     "data": {
      "text/plain": [
       "<matplotlib.axes._subplots.AxesSubplot at 0x7fb037f83550>"
      ]
     },
     "execution_count": 34,
     "metadata": {},
     "output_type": "execute_result"
    },
    {
     "data": {
      "text/plain": [
       "<matplotlib.axes._subplots.AxesSubplot at 0x7fb037fcf8d0>"
      ]
     },
     "execution_count": 34,
     "metadata": {},
     "output_type": "execute_result"
    },
    {
     "data": {
      "text/plain": [
       "<matplotlib.axes._subplots.AxesSubplot at 0x7fb037f832d0>"
      ]
     },
     "execution_count": 34,
     "metadata": {},
     "output_type": "execute_result"
    },
    {
     "data": {
      "text/plain": [
       "<matplotlib.axes._subplots.AxesSubplot at 0x7fb037f832d0>"
      ]
     },
     "execution_count": 34,
     "metadata": {},
     "output_type": "execute_result"
    },
    {
     "data": {
      "text/plain": [
       "<matplotlib.axes._subplots.AxesSubplot at 0x7fb03809b190>"
      ]
     },
     "execution_count": 34,
     "metadata": {},
     "output_type": "execute_result"
    },
    {
     "data": {
      "text/plain": [
       "<matplotlib.axes._subplots.AxesSubplot at 0x7fb038042dd0>"
      ]
     },
     "execution_count": 34,
     "metadata": {},
     "output_type": "execute_result"
    },
    {
     "data": {
      "text/plain": [
       "<matplotlib.axes._subplots.AxesSubplot at 0x7fb038042dd0>"
      ]
     },
     "execution_count": 34,
     "metadata": {},
     "output_type": "execute_result"
    },
    {
     "data": {
      "text/plain": [
       "<matplotlib.axes._subplots.AxesSubplot at 0x7fb038642350>"
      ]
     },
     "execution_count": 34,
     "metadata": {},
     "output_type": "execute_result"
    },
    {
     "data": {
      "text/plain": [
       "<matplotlib.axes._subplots.AxesSubplot at 0x7fb038687b50>"
      ]
     },
     "execution_count": 34,
     "metadata": {},
     "output_type": "execute_result"
    },
    {
     "data": {
      "text/plain": [
       "<matplotlib.axes._subplots.AxesSubplot at 0x7fb038687b50>"
      ]
     },
     "execution_count": 34,
     "metadata": {},
     "output_type": "execute_result"
    },
    {
     "data": {
      "text/plain": [
       "<matplotlib.axes._subplots.AxesSubplot at 0x7fb0386006d0>"
      ]
     },
     "execution_count": 34,
     "metadata": {},
     "output_type": "execute_result"
    },
    {
     "data": {
      "text/plain": [
       "<matplotlib.axes._subplots.AxesSubplot at 0x7fb038753f90>"
      ]
     },
     "execution_count": 34,
     "metadata": {},
     "output_type": "execute_result"
    },
    {
     "data": {
      "text/plain": [
       "<matplotlib.axes._subplots.AxesSubplot at 0x7fb038753f90>"
      ]
     },
     "execution_count": 34,
     "metadata": {},
     "output_type": "execute_result"
    },
    {
     "data": {
      "text/plain": [
       "<matplotlib.axes._subplots.AxesSubplot at 0x7fb0387ae210>"
      ]
     },
     "execution_count": 34,
     "metadata": {},
     "output_type": "execute_result"
    },
    {
     "data": {
      "text/plain": [
       "<matplotlib.axes._subplots.AxesSubplot at 0x7fb0392541d0>"
      ]
     },
     "execution_count": 34,
     "metadata": {},
     "output_type": "execute_result"
    },
    {
     "data": {
      "text/plain": [
       "<matplotlib.axes._subplots.AxesSubplot at 0x7fb0392541d0>"
      ]
     },
     "execution_count": 34,
     "metadata": {},
     "output_type": "execute_result"
    },
    {
     "data": {
      "text/plain": [
       "<matplotlib.axes._subplots.AxesSubplot at 0x7fb0392a42d0>"
      ]
     },
     "execution_count": 34,
     "metadata": {},
     "output_type": "execute_result"
    },
    {
     "data": {
      "text/plain": [
       "<matplotlib.axes._subplots.AxesSubplot at 0x7fb039254150>"
      ]
     },
     "execution_count": 34,
     "metadata": {},
     "output_type": "execute_result"
    },
    {
     "data": {
      "text/plain": [
       "<matplotlib.axes._subplots.AxesSubplot at 0x7fb039254150>"
      ]
     },
     "execution_count": 34,
     "metadata": {},
     "output_type": "execute_result"
    },
    {
     "data": {
      "text/plain": [
       "<matplotlib.axes._subplots.AxesSubplot at 0x7fb0394335d0>"
      ]
     },
     "execution_count": 34,
     "metadata": {},
     "output_type": "execute_result"
    },
    {
     "data": {
      "text/plain": [
       "<matplotlib.axes._subplots.AxesSubplot at 0x7fb03940eb50>"
      ]
     },
     "execution_count": 34,
     "metadata": {},
     "output_type": "execute_result"
    },
    {
     "data": {
      "text/plain": [
       "<matplotlib.axes._subplots.AxesSubplot at 0x7fb03940eb50>"
      ]
     },
     "execution_count": 34,
     "metadata": {},
     "output_type": "execute_result"
    },
    {
     "data": {
      "text/plain": [
       "<matplotlib.axes._subplots.AxesSubplot at 0x7fb03951e250>"
      ]
     },
     "execution_count": 34,
     "metadata": {},
     "output_type": "execute_result"
    },
    {
     "data": {
      "text/plain": [
       "<matplotlib.axes._subplots.AxesSubplot at 0x7fb0395557d0>"
      ]
     },
     "execution_count": 34,
     "metadata": {},
     "output_type": "execute_result"
    },
    {
     "data": {
      "text/plain": [
       "<matplotlib.axes._subplots.AxesSubplot at 0x7fb0395557d0>"
      ]
     },
     "execution_count": 34,
     "metadata": {},
     "output_type": "execute_result"
    },
    {
     "data": {
      "text/plain": [
       "<matplotlib.axes._subplots.AxesSubplot at 0x7fb0395899d0>"
      ]
     },
     "execution_count": 34,
     "metadata": {},
     "output_type": "execute_result"
    },
    {
     "data": {
      "text/plain": [
       "<matplotlib.axes._subplots.AxesSubplot at 0x7fb0395b5f50>"
      ]
     },
     "execution_count": 34,
     "metadata": {},
     "output_type": "execute_result"
    },
    {
     "data": {
      "text/plain": [
       "<matplotlib.axes._subplots.AxesSubplot at 0x7fb0395b5f50>"
      ]
     },
     "execution_count": 34,
     "metadata": {},
     "output_type": "execute_result"
    },
    {
     "data": {
      "text/plain": [
       "<matplotlib.axes._subplots.AxesSubplot at 0x7fb03965c050>"
      ]
     },
     "execution_count": 34,
     "metadata": {},
     "output_type": "execute_result"
    },
    {
     "data": {
      "text/plain": [
       "<matplotlib.axes._subplots.AxesSubplot at 0x7fb039602650>"
      ]
     },
     "execution_count": 34,
     "metadata": {},
     "output_type": "execute_result"
    },
    {
     "data": {
      "text/plain": [
       "<matplotlib.axes._subplots.AxesSubplot at 0x7fb039602650>"
      ]
     },
     "execution_count": 34,
     "metadata": {},
     "output_type": "execute_result"
    },
    {
     "data": {
      "text/plain": [
       "<matplotlib.axes._subplots.AxesSubplot at 0x7fb03970ca90>"
      ]
     },
     "execution_count": 34,
     "metadata": {},
     "output_type": "execute_result"
    },
    {
     "data": {
      "text/plain": [
       "<matplotlib.axes._subplots.AxesSubplot at 0x7fb039753650>"
      ]
     },
     "execution_count": 34,
     "metadata": {},
     "output_type": "execute_result"
    },
    {
     "data": {
      "text/plain": [
       "<matplotlib.axes._subplots.AxesSubplot at 0x7fb039753650>"
      ]
     },
     "execution_count": 34,
     "metadata": {},
     "output_type": "execute_result"
    },
    {
     "data": {
      "text/plain": [
       "<matplotlib.axes._subplots.AxesSubplot at 0x7fb040dbb350>"
      ]
     },
     "execution_count": 34,
     "metadata": {},
     "output_type": "execute_result"
    },
    {
     "data": {
      "text/plain": [
       "<matplotlib.axes._subplots.AxesSubplot at 0x7fb03975c9d0>"
      ]
     },
     "execution_count": 34,
     "metadata": {},
     "output_type": "execute_result"
    },
    {
     "data": {
      "text/plain": [
       "<matplotlib.axes._subplots.AxesSubplot at 0x7fb03975c9d0>"
      ]
     },
     "execution_count": 34,
     "metadata": {},
     "output_type": "execute_result"
    },
    {
     "data": {
      "text/plain": [
       "<matplotlib.axes._subplots.AxesSubplot at 0x7fb040e265d0>"
      ]
     },
     "execution_count": 34,
     "metadata": {},
     "output_type": "execute_result"
    },
    {
     "data": {
      "text/plain": [
       "<matplotlib.axes._subplots.AxesSubplot at 0x7fb040e0f090>"
      ]
     },
     "execution_count": 34,
     "metadata": {},
     "output_type": "execute_result"
    },
    {
     "data": {
      "text/plain": [
       "<matplotlib.axes._subplots.AxesSubplot at 0x7fb040e0f090>"
      ]
     },
     "execution_count": 34,
     "metadata": {},
     "output_type": "execute_result"
    },
    {
     "data": {
      "text/plain": [
       "<matplotlib.axes._subplots.AxesSubplot at 0x7fb040e03b90>"
      ]
     },
     "execution_count": 34,
     "metadata": {},
     "output_type": "execute_result"
    },
    {
     "data": {
      "text/plain": [
       "<matplotlib.axes._subplots.AxesSubplot at 0x7fb040f43dd0>"
      ]
     },
     "execution_count": 34,
     "metadata": {},
     "output_type": "execute_result"
    },
    {
     "data": {
      "text/plain": [
       "<matplotlib.axes._subplots.AxesSubplot at 0x7fb040f43dd0>"
      ]
     },
     "execution_count": 34,
     "metadata": {},
     "output_type": "execute_result"
    },
    {
     "data": {
      "text/plain": [
       "<matplotlib.axes._subplots.AxesSubplot at 0x7fb040f83410>"
      ]
     },
     "execution_count": 34,
     "metadata": {},
     "output_type": "execute_result"
    },
    {
     "data": {
      "text/plain": [
       "<matplotlib.axes._subplots.AxesSubplot at 0x7fb04119f390>"
      ]
     },
     "execution_count": 34,
     "metadata": {},
     "output_type": "execute_result"
    },
    {
     "data": {
      "text/plain": [
       "<matplotlib.axes._subplots.AxesSubplot at 0x7fb04119f390>"
      ]
     },
     "execution_count": 34,
     "metadata": {},
     "output_type": "execute_result"
    },
    {
     "data": {
      "text/plain": [
       "<matplotlib.axes._subplots.AxesSubplot at 0x7fb0411d6610>"
      ]
     },
     "execution_count": 34,
     "metadata": {},
     "output_type": "execute_result"
    },
    {
     "data": {
      "text/plain": [
       "<matplotlib.axes._subplots.AxesSubplot at 0x7fb04117cc90>"
      ]
     },
     "execution_count": 34,
     "metadata": {},
     "output_type": "execute_result"
    },
    {
     "data": {
      "text/plain": [
       "<matplotlib.axes._subplots.AxesSubplot at 0x7fb04117cc90>"
      ]
     },
     "execution_count": 34,
     "metadata": {},
     "output_type": "execute_result"
    },
    {
     "data": {
      "text/plain": [
       "<matplotlib.axes._subplots.AxesSubplot at 0x7fb0412bb2d0>"
      ]
     },
     "execution_count": 34,
     "metadata": {},
     "output_type": "execute_result"
    },
    {
     "data": {
      "text/plain": [
       "<matplotlib.axes._subplots.AxesSubplot at 0x7fb04130c190>"
      ]
     },
     "execution_count": 34,
     "metadata": {},
     "output_type": "execute_result"
    },
    {
     "data": {
      "text/plain": [
       "<matplotlib.axes._subplots.AxesSubplot at 0x7fb04130c190>"
      ]
     },
     "execution_count": 34,
     "metadata": {},
     "output_type": "execute_result"
    },
    {
     "data": {
      "text/plain": [
       "<matplotlib.axes._subplots.AxesSubplot at 0x7fb041365150>"
      ]
     },
     "execution_count": 34,
     "metadata": {},
     "output_type": "execute_result"
    },
    {
     "data": {
      "text/plain": [
       "<matplotlib.axes._subplots.AxesSubplot at 0x7fb0413d8a10>"
      ]
     },
     "execution_count": 34,
     "metadata": {},
     "output_type": "execute_result"
    },
    {
     "data": {
      "text/plain": [
       "<matplotlib.axes._subplots.AxesSubplot at 0x7fb0413d8a10>"
      ]
     },
     "execution_count": 34,
     "metadata": {},
     "output_type": "execute_result"
    },
    {
     "data": {
      "text/plain": [
       "<matplotlib.axes._subplots.AxesSubplot at 0x7fb041405510>"
      ]
     },
     "execution_count": 34,
     "metadata": {},
     "output_type": "execute_result"
    },
    {
     "data": {
      "text/plain": [
       "<matplotlib.axes._subplots.AxesSubplot at 0x7fb0413d8610>"
      ]
     },
     "execution_count": 34,
     "metadata": {},
     "output_type": "execute_result"
    },
    {
     "data": {
      "text/plain": [
       "<matplotlib.axes._subplots.AxesSubplot at 0x7fb0413d8610>"
      ]
     },
     "execution_count": 34,
     "metadata": {},
     "output_type": "execute_result"
    },
    {
     "data": {
      "text/plain": [
       "<matplotlib.axes._subplots.AxesSubplot at 0x7fb0414cd090>"
      ]
     },
     "execution_count": 34,
     "metadata": {},
     "output_type": "execute_result"
    },
    {
     "data": {
      "text/plain": [
       "<matplotlib.axes._subplots.AxesSubplot at 0x7fb041517750>"
      ]
     },
     "execution_count": 34,
     "metadata": {},
     "output_type": "execute_result"
    },
    {
     "data": {
      "text/plain": [
       "<matplotlib.axes._subplots.AxesSubplot at 0x7fb041517750>"
      ]
     },
     "execution_count": 34,
     "metadata": {},
     "output_type": "execute_result"
    },
    {
     "data": {
      "text/plain": [
       "<matplotlib.axes._subplots.AxesSubplot at 0x7fb041562f90>"
      ]
     },
     "execution_count": 34,
     "metadata": {},
     "output_type": "execute_result"
    },
    {
     "data": {
      "text/plain": [
       "<matplotlib.axes._subplots.AxesSubplot at 0x7fb041517390>"
      ]
     },
     "execution_count": 34,
     "metadata": {},
     "output_type": "execute_result"
    },
    {
     "data": {
      "text/plain": [
       "<matplotlib.axes._subplots.AxesSubplot at 0x7fb041517390>"
      ]
     },
     "execution_count": 34,
     "metadata": {},
     "output_type": "execute_result"
    },
    {
     "data": {
      "text/plain": [
       "<matplotlib.axes._subplots.AxesSubplot at 0x7fb04162fd50>"
      ]
     },
     "execution_count": 34,
     "metadata": {},
     "output_type": "execute_result"
    },
    {
     "data": {
      "text/plain": [
       "<matplotlib.axes._subplots.AxesSubplot at 0x7fb0415d0a90>"
      ]
     },
     "execution_count": 34,
     "metadata": {},
     "output_type": "execute_result"
    },
    {
     "data": {
      "text/plain": [
       "<matplotlib.axes._subplots.AxesSubplot at 0x7fb0415d0a90>"
      ]
     },
     "execution_count": 34,
     "metadata": {},
     "output_type": "execute_result"
    },
    {
     "data": {
      "text/plain": [
       "<matplotlib.axes._subplots.AxesSubplot at 0x7fb0416f8250>"
      ]
     },
     "execution_count": 34,
     "metadata": {},
     "output_type": "execute_result"
    },
    {
     "data": {
      "text/plain": [
       "<matplotlib.axes._subplots.AxesSubplot at 0x7fb0416efb90>"
      ]
     },
     "execution_count": 34,
     "metadata": {},
     "output_type": "execute_result"
    },
    {
     "data": {
      "text/plain": [
       "<matplotlib.axes._subplots.AxesSubplot at 0x7fb0416efb90>"
      ]
     },
     "execution_count": 34,
     "metadata": {},
     "output_type": "execute_result"
    },
    {
     "data": {
      "text/plain": [
       "<matplotlib.axes._subplots.AxesSubplot at 0x7fb04179a590>"
      ]
     },
     "execution_count": 34,
     "metadata": {},
     "output_type": "execute_result"
    },
    {
     "data": {
      "text/plain": [
       "<matplotlib.axes._subplots.AxesSubplot at 0x7fb04173d9d0>"
      ]
     },
     "execution_count": 34,
     "metadata": {},
     "output_type": "execute_result"
    },
    {
     "data": {
      "text/plain": [
       "<matplotlib.axes._subplots.AxesSubplot at 0x7fb04173d9d0>"
      ]
     },
     "execution_count": 34,
     "metadata": {},
     "output_type": "execute_result"
    },
    {
     "data": {
      "text/plain": [
       "<matplotlib.axes._subplots.AxesSubplot at 0x7fb041859c50>"
      ]
     },
     "execution_count": 34,
     "metadata": {},
     "output_type": "execute_result"
    },
    {
     "data": {
      "text/plain": [
       "<matplotlib.axes._subplots.AxesSubplot at 0x7fb041898cd0>"
      ]
     },
     "execution_count": 34,
     "metadata": {},
     "output_type": "execute_result"
    },
    {
     "data": {
      "text/plain": [
       "<matplotlib.axes._subplots.AxesSubplot at 0x7fb041898cd0>"
      ]
     },
     "execution_count": 34,
     "metadata": {},
     "output_type": "execute_result"
    },
    {
     "data": {
      "text/plain": [
       "<matplotlib.axes._subplots.AxesSubplot at 0x7fb0418f3310>"
      ]
     },
     "execution_count": 34,
     "metadata": {},
     "output_type": "execute_result"
    },
    {
     "data": {
      "text/plain": [
       "<matplotlib.axes._subplots.AxesSubplot at 0x7fb041952a10>"
      ]
     },
     "execution_count": 34,
     "metadata": {},
     "output_type": "execute_result"
    },
    {
     "data": {
      "text/plain": [
       "<matplotlib.axes._subplots.AxesSubplot at 0x7fb041952a10>"
      ]
     },
     "execution_count": 34,
     "metadata": {},
     "output_type": "execute_result"
    },
    {
     "data": {
      "text/plain": [
       "<matplotlib.axes._subplots.AxesSubplot at 0x7fb041987810>"
      ]
     },
     "execution_count": 34,
     "metadata": {},
     "output_type": "execute_result"
    },
    {
     "data": {
      "text/plain": [
       "<matplotlib.axes._subplots.AxesSubplot at 0x7fb04199ee10>"
      ]
     },
     "execution_count": 34,
     "metadata": {},
     "output_type": "execute_result"
    },
    {
     "data": {
      "text/plain": [
       "<matplotlib.axes._subplots.AxesSubplot at 0x7fb04199ee10>"
      ]
     },
     "execution_count": 34,
     "metadata": {},
     "output_type": "execute_result"
    },
    {
     "data": {
      "image/png": "[encoded data removed]",
      "text/plain": [
       "<Figure size 1080x720 with 6 Axes>"
      ]
     },
     "metadata": {},
     "output_type": "display_data"
    },
    {
     "data": {
      "image/png": "[encoded data removed]",
      "text/plain": [
       "<Figure size 1080x720 with 6 Axes>"
      ]
     },
     "metadata": {},
     "output_type": "display_data"
    },
    {
     "data": {
      "image/png": "[encoded data removed]",
      "text/plain": [
       "<Figure size 1080x720 with 6 Axes>"
      ]
     },
     "metadata": {},
     "output_type": "display_data"
    },
    {
     "data": {
      "image/png": "[encoded data removed]",
      "text/plain": [
       "<Figure size 1080x720 with 6 Axes>"
      ]
     },
     "metadata": {},
     "output_type": "display_data"
    },
    {
     "data": {
      "image/png": "[encoded data removed]",
      "text/plain": [
       "<Figure size 1080x720 with 4 Axes>"
      ]
     },
     "metadata": {},
     "output_type": "display_data"
    },
    {
     "data": {
      "image/png": "[encoded data removed]",
      "text/plain": [
       "<Figure size 1080x720 with 6 Axes>"
      ]
     },
     "metadata": {},
     "output_type": "display_data"
    },
    {
     "data": {
      "image/png": "[encoded data removed]",
      "text/plain": [
       "<Figure size 1080x720 with 6 Axes>"
      ]
     },
     "metadata": {},
     "output_type": "display_data"
    },
    {
     "data": {
      "image/png": "[encoded data removed]",
      "text/plain": [
       "<Figure size 1080x720 with 6 Axes>"
      ]
     },
     "metadata": {},
     "output_type": "display_data"
    },
    {
     "data": {
      "image/png": "[encoded data removed]",
      "text/plain": [
       "<Figure size 1080x720 with 6 Axes>"
      ]
     },
     "metadata": {},
     "output_type": "display_data"
    },
    {
     "data": {
      "image/png": "[encoded data removed]",
      "text/plain": [
       "<Figure size 1080x720 with 6 Axes>"
      ]
     },
     "metadata": {},
     "output_type": "display_data"
    },
    {
     "data": {
      "text/plain": [
       "<Figure size 1080x720 with 0 Axes>"
      ]
     },
     "metadata": {},
     "output_type": "display_data"
    }
   ],
   "source": [
    "#multi_var_data['EDVisits'] = dataset.loc[multi_var_data.index, 'EDVisits'].copy()\n",
    "ix = 1\n",
    "fig = plt.figure(figsize = (15,10))\n",
    "for c in list(Collision_data_clean.columns):\n",
    "    if ix <= 3:\n",
    "        if c != 'injuries':\n",
    "            ax1 = fig.add_subplot(2,3,ix)\n",
    "            Collision_data_clean.pivot_table(index=c,columns='injuries', aggfunc='size').plot.bar(stacked=True,ax=ax1)\n",
    "            #sns.countplot(data = multi_var_data, x=c, ax = ax1)\n",
    "            ax2 = fig.add_subplot(2,3,ix+3)\n",
    "            sns.boxplot(data=Collision_data_clean, x=c, y='injuries', ax=ax2)\n",
    "            sns.violinplot(data=Collision_data_clean, x=c, y='injuries', ax=ax2)\n",
    "            #sns.swarmplot(data = ds_cat, x=c, y ='injuries', color = 'k', alpha = 0.4, ax=ax2)\n",
    "            \n",
    "    ix = ix +1\n",
    "    if ix == 4: \n",
    "        fig = plt.figure(figsize = (15,10))\n",
    "        ix =1"
   ]
  },
  {
   "cell_type": "code",
   "execution_count": null,
   "metadata": {},
   "outputs": [],
   "source": []
  }
 ],
 "metadata": {
  "kernelspec": {
   "display_name": "Python 3",
   "language": "python",
   "name": "python3"
  },
  "language_info": {
   "codemirror_mode": {
    "name": "ipython",
    "version": 3
   },
   "file_extension": ".py",
   "mimetype": "text/x-python",
   "name": "python",
   "nbconvert_exporter": "python",
   "pygments_lexer": "ipython3",
   "version": "3.7.6"
  }
 },
 "nbformat": 4,
 "nbformat_minor": 4
}
